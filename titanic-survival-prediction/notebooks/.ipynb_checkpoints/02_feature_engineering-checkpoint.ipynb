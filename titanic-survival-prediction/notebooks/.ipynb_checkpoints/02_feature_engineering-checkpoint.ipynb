{
 "cells": [
  {
   "cell_type": "code",
   "execution_count": 1,
   "id": "57935114-b1ec-4fe3-96bc-fb8d6f63e87f",
   "metadata": {},
   "outputs": [],
   "source": [
    "# Titanic - EDA & Feature Engineering\n",
    "# Objective: Exploratory analysis and implementation of logistic regression from scratch\n",
    "# Input: Raw data from Kaggle (train.csv, test.csv)\n",
    "\n",
    "import os\n",
    "import sys\n",
    "import numpy as np\n",
    "import pandas as pd\n",
    "from sklearn.model_selection import train_test_split\n",
    "from sklearn.linear_model import LogisticRegression\n",
    "\n",
    "sys.path.append('../src/')\n",
    "from models.logistic_regression import gradient_descent\n",
    "from utils import predict, extract_title"
   ]
  },
  {
   "cell_type": "code",
   "execution_count": 2,
   "id": "bb38c1ee",
   "metadata": {},
   "outputs": [],
   "source": [
    "# =============================================================================\n",
    "# 1. LOAD DATA\n",
    "# ============================================================================="
   ]
  },
  {
   "cell_type": "code",
   "execution_count": 3,
   "id": "86d8b2e4-45c2-4cf6-ba11-a0f9b0695225",
   "metadata": {},
   "outputs": [
    {
     "name": "stdout",
     "output_type": "stream",
     "text": [
      "Dataset shapes:\n",
      "Training set: (891, 12)\n",
      "Test set: (418, 11)\n"
     ]
    }
   ],
   "source": [
    "# Load datasets\n",
    "train_df = pd.read_csv('../data/raw/train.csv')\n",
    "test_df = pd.read_csv('../data/raw/test.csv')\n",
    "\n",
    "print(\"Dataset shapes:\")\n",
    "print(f\"Training set: {train_df.shape}\")\n",
    "print(f\"Test set: {test_df.shape}\")"
   ]
  },
  {
   "cell_type": "code",
   "execution_count": 7,
   "id": "9f4c79eb-205a-43d1-a94a-deb4ddb05be0",
   "metadata": {},
   "outputs": [
    {
     "data": {
      "text/html": [
       "<div>\n",
       "<style scoped>\n",
       "    .dataframe tbody tr th:only-of-type {\n",
       "        vertical-align: middle;\n",
       "    }\n",
       "\n",
       "    .dataframe tbody tr th {\n",
       "        vertical-align: top;\n",
       "    }\n",
       "\n",
       "    .dataframe thead th {\n",
       "        text-align: right;\n",
       "    }\n",
       "</style>\n",
       "<table border=\"1\" class=\"dataframe\">\n",
       "  <thead>\n",
       "    <tr style=\"text-align: right;\">\n",
       "      <th></th>\n",
       "      <th>PassengerId</th>\n",
       "      <th>Survived</th>\n",
       "      <th>Pclass</th>\n",
       "      <th>Name</th>\n",
       "      <th>Sex</th>\n",
       "      <th>Age</th>\n",
       "      <th>SibSp</th>\n",
       "      <th>Parch</th>\n",
       "      <th>Ticket</th>\n",
       "      <th>Fare</th>\n",
       "      <th>Cabin</th>\n",
       "      <th>Embarked</th>\n",
       "      <th>Titles</th>\n",
       "    </tr>\n",
       "  </thead>\n",
       "  <tbody>\n",
       "    <tr>\n",
       "      <th>0</th>\n",
       "      <td>1</td>\n",
       "      <td>0</td>\n",
       "      <td>3</td>\n",
       "      <td>Braund, Mr. Owen Harris</td>\n",
       "      <td>male</td>\n",
       "      <td>22.0</td>\n",
       "      <td>1</td>\n",
       "      <td>0</td>\n",
       "      <td>A/5 21171</td>\n",
       "      <td>7.2500</td>\n",
       "      <td>NaN</td>\n",
       "      <td>S</td>\n",
       "      <td>Mr</td>\n",
       "    </tr>\n",
       "    <tr>\n",
       "      <th>1</th>\n",
       "      <td>2</td>\n",
       "      <td>1</td>\n",
       "      <td>1</td>\n",
       "      <td>Cumings, Mrs. John Bradley (Florence Briggs Th...</td>\n",
       "      <td>female</td>\n",
       "      <td>38.0</td>\n",
       "      <td>1</td>\n",
       "      <td>0</td>\n",
       "      <td>PC 17599</td>\n",
       "      <td>71.2833</td>\n",
       "      <td>C85</td>\n",
       "      <td>C</td>\n",
       "      <td>Mrs</td>\n",
       "    </tr>\n",
       "    <tr>\n",
       "      <th>2</th>\n",
       "      <td>3</td>\n",
       "      <td>1</td>\n",
       "      <td>3</td>\n",
       "      <td>Heikkinen, Miss. Laina</td>\n",
       "      <td>female</td>\n",
       "      <td>26.0</td>\n",
       "      <td>0</td>\n",
       "      <td>0</td>\n",
       "      <td>STON/O2. 3101282</td>\n",
       "      <td>7.9250</td>\n",
       "      <td>NaN</td>\n",
       "      <td>S</td>\n",
       "      <td>Miss</td>\n",
       "    </tr>\n",
       "    <tr>\n",
       "      <th>3</th>\n",
       "      <td>4</td>\n",
       "      <td>1</td>\n",
       "      <td>1</td>\n",
       "      <td>Futrelle, Mrs. Jacques Heath (Lily May Peel)</td>\n",
       "      <td>female</td>\n",
       "      <td>35.0</td>\n",
       "      <td>1</td>\n",
       "      <td>0</td>\n",
       "      <td>113803</td>\n",
       "      <td>53.1000</td>\n",
       "      <td>C123</td>\n",
       "      <td>S</td>\n",
       "      <td>Mrs</td>\n",
       "    </tr>\n",
       "    <tr>\n",
       "      <th>4</th>\n",
       "      <td>5</td>\n",
       "      <td>0</td>\n",
       "      <td>3</td>\n",
       "      <td>Allen, Mr. William Henry</td>\n",
       "      <td>male</td>\n",
       "      <td>35.0</td>\n",
       "      <td>0</td>\n",
       "      <td>0</td>\n",
       "      <td>373450</td>\n",
       "      <td>8.0500</td>\n",
       "      <td>NaN</td>\n",
       "      <td>S</td>\n",
       "      <td>Mr</td>\n",
       "    </tr>\n",
       "  </tbody>\n",
       "</table>\n",
       "</div>"
      ],
      "text/plain": [
       "   PassengerId  Survived  Pclass  \\\n",
       "0            1         0       3   \n",
       "1            2         1       1   \n",
       "2            3         1       3   \n",
       "3            4         1       1   \n",
       "4            5         0       3   \n",
       "\n",
       "                                                Name     Sex   Age  SibSp  \\\n",
       "0                            Braund, Mr. Owen Harris    male  22.0      1   \n",
       "1  Cumings, Mrs. John Bradley (Florence Briggs Th...  female  38.0      1   \n",
       "2                             Heikkinen, Miss. Laina  female  26.0      0   \n",
       "3       Futrelle, Mrs. Jacques Heath (Lily May Peel)  female  35.0      1   \n",
       "4                           Allen, Mr. William Henry    male  35.0      0   \n",
       "\n",
       "   Parch            Ticket     Fare Cabin Embarked Titles  \n",
       "0      0         A/5 21171   7.2500   NaN        S     Mr  \n",
       "1      0          PC 17599  71.2833   C85        C    Mrs  \n",
       "2      0  STON/O2. 3101282   7.9250   NaN        S   Miss  \n",
       "3      0            113803  53.1000  C123        S    Mrs  \n",
       "4      0            373450   8.0500   NaN        S     Mr  "
      ]
     },
     "execution_count": 7,
     "metadata": {},
     "output_type": "execute_result"
    }
   ],
   "source": [
    "# Vamos ver alguns exemplos de nomes\n",
    "train_df['Titles'] = train_df['Name'].map(extract_title)\n",
    "train_df.head()"
   ]
  },
  {
   "cell_type": "code",
   "execution_count": 15,
   "id": "f92c14bb-70fe-4021-9c6a-b205155a642c",
   "metadata": {},
   "outputs": [
    {
     "data": {
      "text/plain": [
       "0"
      ]
     },
     "execution_count": 15,
     "metadata": {},
     "output_type": "execute_result"
    }
   ],
   "source": [
    "# Check if some title is not mapped\n",
    "train_df['Titles'].isnull().sum()"
   ]
  },
  {
   "cell_type": "code",
   "execution_count": 46,
   "id": "010e2223-63a1-4be2-8918-7b2cdfd49538",
   "metadata": {},
   "outputs": [],
   "source": [
    "# =============================================================================\n",
    "# 2. EXPLORATORY DATA ANALYSIS\n",
    "# ============================================================================="
   ]
  },
  {
   "cell_type": "code",
   "execution_count": null,
   "id": "0acd552e-cab4-4307-83d2-cf19d8f12739",
   "metadata": {},
   "outputs": [],
   "source": [
    "print(\"\\n=== SURVIVAL RATE BY Title ===\")\n",
    "print(train_df.groupby('Titles')['Survived'].mean())\n",
    "\n",
    "# Family size analysis (quick insight)\n",
    "# train_df['FamilySize'] = train_df['SibSp'] + train_df['Parch'] + 1\n",
    "# print(\"\\n=== SURVIVAL RATE BY FAMILY SIZE ===\")\n",
    "# print(train_df.groupby('FamilySize')['Survived'].mean())"
   ]
  },
  {
   "cell_type": "code",
   "execution_count": 50,
   "id": "785f66b2-0cbe-4e5d-9a8f-730cce7b5b3c",
   "metadata": {},
   "outputs": [],
   "source": [
    "# =============================================================================\n",
    "# 3. PREPARE BASE FEATURES\n",
    "# ============================================================================="
   ]
  },
  {
   "cell_type": "code",
   "execution_count": 52,
   "id": "21ac418e-7811-44d6-b265-3e9db3170ea2",
   "metadata": {},
   "outputs": [
    {
     "name": "stdout",
     "output_type": "stream",
     "text": [
      "\n",
      "Feature matrix shape: (891, 2)\n",
      "Target shape: (891,)\n",
      "Missing values in features: 0\n"
     ]
    }
   ],
   "source": [
    "# Simple feature engineering for baseline\n",
    "train_df['Sex_numeric'] = train_df['Sex'].map({'male': 0, 'female': 1})\n",
    "\n",
    "# Select features for baseline model (Sex + Pclass)\n",
    "X = train_df[['Sex_numeric', 'Pclass']]\n",
    "y = train_df['Survived']\n",
    "\n",
    "print(f\"\\nFeature matrix shape: {X.shape}\")\n",
    "print(f\"Target shape: {y.shape}\")\n",
    "print(f\"Missing values in features: {X.isnull().sum().sum()}\")\n",
    "\n",
    "# Train-validation split\n",
    "X_train, X_val, y_train, y_val = train_test_split(X, y, test_size=0.2, random_state=42)"
   ]
  },
  {
   "cell_type": "code",
   "execution_count": 54,
   "id": "48c41893-c459-4b9b-bbba-56357310265e",
   "metadata": {},
   "outputs": [],
   "source": [
    "# =============================================================================\n",
    "# 4. PREPARE DATA\n",
    "# ============================================================================="
   ]
  },
  {
   "cell_type": "code",
   "execution_count": 56,
   "id": "368afad1-d58d-466f-a0c2-431be7d5660e",
   "metadata": {},
   "outputs": [],
   "source": [
    "X_train, X_val, y_train, y_val = train_test_split(X, y, test_size=0.2, random_state=42)"
   ]
  },
  {
   "cell_type": "code",
   "execution_count": 58,
   "id": "f1333d6d-39d8-455f-9f06-98e3b9c7cfeb",
   "metadata": {},
   "outputs": [],
   "source": [
    "# =============================================================================\n",
    "# 5. RUN MODEL\n",
    "# ============================================================================="
   ]
  },
  {
   "cell_type": "code",
   "execution_count": 60,
   "id": "9046b5b8-e92c-47b4-9c48-c1938421982d",
   "metadata": {},
   "outputs": [
    {
     "name": "stdout",
     "output_type": "stream",
     "text": [
      "Iteration    0: Cost 0.675175\n",
      "Iteration  100: Cost 0.528647\n",
      "Iteration  200: Cost 0.492328\n",
      "Iteration  300: Cost 0.478762\n",
      "Iteration  400: Cost 0.473093\n",
      "Iteration  500: Cost 0.470536\n",
      "Iteration  600: Cost 0.469318\n",
      "Iteration  700: Cost 0.468711\n",
      "Iteration  800: Cost 0.468398\n",
      "Iteration  900: Cost 0.468231\n",
      "\n",
      "Parâmetros finais:\n",
      "w: Sex_numeric    2.559679\n",
      "Pclass        -0.865522\n",
      "dtype: float64\n",
      "b: 0.46693049304425166\n"
     ]
    }
   ],
   "source": [
    "# Parameters\n",
    "initial_w = np.zeros(2)\n",
    "initial_b = 0.\n",
    "alpha = 0.1  # learning rate\n",
    "num_iters = 1000\n",
    "\n",
    "# Run gradient_descent\n",
    "w_final, b_final, J_history = gradient_descent(X_train, y_train, initial_w, initial_b, alpha, num_iters)\n",
    "\n",
    "print(f\"\\nParâmetros finais:\")\n",
    "print(f\"w: {w_final}\")\n",
    "print(f\"b: {b_final}\")"
   ]
  },
  {
   "cell_type": "code",
   "execution_count": 62,
   "id": "c3c525d6-0272-4a6e-bbad-2bd03f7430af",
   "metadata": {},
   "outputs": [],
   "source": [
    "# =============================================================================\n",
    "# 6. TEST WITH VALIDATION DATASET\n",
    "# ============================================================================="
   ]
  },
  {
   "cell_type": "code",
   "execution_count": 64,
   "id": "e01a4250-e9f8-4883-b65f-cac7a6209f96",
   "metadata": {},
   "outputs": [
    {
     "name": "stdout",
     "output_type": "stream",
     "text": [
      "Accuracy: 0.782\n"
     ]
    }
   ],
   "source": [
    "# Predict with validation set\n",
    "predictions = predict(X_val, w_final, b_final)\n",
    "\n",
    "# Calculate accuracy\n",
    "accuracy = (predictions == y_val).mean()\n",
    "print(f\"Accuracy: {accuracy:.3f}\")"
   ]
  },
  {
   "cell_type": "code",
   "execution_count": 68,
   "id": "5d02fbc5-c131-4e40-b2c8-644b2c626490",
   "metadata": {},
   "outputs": [],
   "source": [
    "# =============================================================================\n",
    "# 7. COMPARASION WITH SKLEARN\n",
    "# ============================================================================="
   ]
  },
  {
   "cell_type": "code",
   "execution_count": 70,
   "id": "1106c7ac-ec18-4598-a389-c27df07fe0cc",
   "metadata": {},
   "outputs": [
    {
     "name": "stdout",
     "output_type": "stream",
     "text": [
      "Sklearn accuracy: 0.782\n"
     ]
    }
   ],
   "source": [
    "from sklearn.linear_model import LogisticRegression\n",
    "sklearn_model = LogisticRegression()\n",
    "sklearn_model.fit(X_train, y_train)\n",
    "sklearn_pred = sklearn_model.predict(X_val)\n",
    "sklearn_acc = (sklearn_pred == y_val).mean()\n",
    "print(f\"Sklearn accuracy: {sklearn_acc:.3f}\")"
   ]
  },
  {
   "cell_type": "code",
   "execution_count": null,
   "id": "9031b718-cde5-48c9-90f5-ae25e1fc251c",
   "metadata": {},
   "outputs": [],
   "source": []
  }
 ],
 "metadata": {
  "kernelspec": {
   "display_name": "Python [conda env:base] *",
   "language": "python",
   "name": "conda-base-py"
  },
  "language_info": {
   "codemirror_mode": {
    "name": "ipython",
    "version": 3
   },
   "file_extension": ".py",
   "mimetype": "text/x-python",
   "name": "python",
   "nbconvert_exporter": "python",
   "pygments_lexer": "ipython3",
   "version": "3.12.7"
  }
 },
 "nbformat": 4,
 "nbformat_minor": 5
}
