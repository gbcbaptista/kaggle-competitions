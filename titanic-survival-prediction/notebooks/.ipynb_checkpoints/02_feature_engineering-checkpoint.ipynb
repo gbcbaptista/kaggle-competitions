{
 "cells": [
  {
   "cell_type": "code",
   "execution_count": 157,
   "id": "57935114-b1ec-4fe3-96bc-fb8d6f63e87f",
   "metadata": {},
   "outputs": [],
   "source": [
    "# Titanic - EDA & Feature Engineering\n",
    "# Objective: Exploratory analysis and implementation of logistic regression from scratch\n",
    "# Input: Raw data from Kaggle (train.csv, test.csv)\n",
    "\n",
    "import sys\n",
    "import numpy as np\n",
    "import pandas as pd\n",
    "from sklearn.model_selection import train_test_split\n",
    "from sklearn.linear_model import LogisticRegression\n",
    "\n",
    "sys.path.append('../src/')\n",
    "from models.basic_logistic_regression import gradient_descent as basic_gradient_descent\n",
    "from models.logistic_regression import gradient_descent, StandardScaler\n",
    "from utils import load_data, sex_mapping, predict, extract_title, group_titles, group_mapping, impute_null_age_strategict"
   ]
  },
  {
   "cell_type": "code",
   "execution_count": 117,
   "id": "bb38c1ee",
   "metadata": {},
   "outputs": [],
   "source": [
    "# =============================================================================\n",
    "# 1. LOAD DATA\n",
    "# ============================================================================="
   ]
  },
  {
   "cell_type": "code",
   "execution_count": 119,
   "id": "86d8b2e4-45c2-4cf6-ba11-a0f9b0695225",
   "metadata": {},
   "outputs": [
    {
     "name": "stdout",
     "output_type": "stream",
     "text": [
      "Dataset shapes:\n",
      "Training set: (891, 12)\n",
      "Test set: (418, 11)\n"
     ]
    }
   ],
   "source": [
    "# Load datasets\n",
    "train_df, test_df = load_data()\n",
    "\n",
    "print(\"Dataset shapes:\")\n",
    "print(f\"Training set: {train_df.shape}\")\n",
    "print(f\"Test set: {test_df.shape}\")"
   ]
  },
  {
   "cell_type": "code",
   "execution_count": 121,
   "id": "785f66b2-0cbe-4e5d-9a8f-730cce7b5b3c",
   "metadata": {},
   "outputs": [],
   "source": [
    "# =============================================================================\n",
    "# 2. PREPARE BASE FEATURES\n",
    "# ============================================================================="
   ]
  },
  {
   "cell_type": "code",
   "execution_count": 123,
   "id": "fa02990d-07a7-4c0f-af67-f3b925015339",
   "metadata": {},
   "outputs": [],
   "source": [
    "train_df_age_imputed = impute_null_age_strategict(train_df)"
   ]
  },
  {
   "cell_type": "code",
   "execution_count": 125,
   "id": "dc8cf9cc-ad5f-4e3c-a78c-092e73bc94b9",
   "metadata": {},
   "outputs": [],
   "source": [
    "df = train_df_age_imputed.copy()"
   ]
  },
  {
   "cell_type": "code",
   "execution_count": 127,
   "id": "21ac418e-7811-44d6-b265-3e9db3170ea2",
   "metadata": {},
   "outputs": [
    {
     "name": "stdout",
     "output_type": "stream",
     "text": [
      "\n",
      "Feature matrix shape: (891, 3)\n",
      "Target shape: (891,)\n",
      "Missing values in features: 0\n"
     ]
    }
   ],
   "source": [
    "# Simple feature engineering for baseline\n",
    "df['Sex_numeric'] = df['Sex'].map(sex_mapping)\n",
    "\n",
    "# Select features for baseline model (Sex + Pclass)\n",
    "X = df[['Sex_numeric', 'Pclass', 'Age']]\n",
    "y = df['Survived']\n",
    "\n",
    "print(f\"\\nFeature matrix shape: {X.shape}\")\n",
    "print(f\"Target shape: {y.shape}\")\n",
    "print(f\"Missing values in features: {X.isnull().sum().sum()}\")\n",
    "\n",
    "# Train-validation split\n",
    "X_train, X_val, y_train, y_val = train_test_split(X, y, test_size=0.2, random_state=42)"
   ]
  },
  {
   "cell_type": "code",
   "execution_count": 129,
   "id": "48c41893-c459-4b9b-bbba-56357310265e",
   "metadata": {},
   "outputs": [],
   "source": [
    "# =============================================================================\n",
    "# 4. PREPARE DATA\n",
    "# ============================================================================="
   ]
  },
  {
   "cell_type": "code",
   "execution_count": 131,
   "id": "368afad1-d58d-466f-a0c2-431be7d5660e",
   "metadata": {},
   "outputs": [],
   "source": [
    "X_train, X_val, y_train, y_val = train_test_split(X, y, test_size=0.2, random_state=42)"
   ]
  },
  {
   "cell_type": "code",
   "execution_count": 133,
   "id": "f1333d6d-39d8-455f-9f06-98e3b9c7cfeb",
   "metadata": {},
   "outputs": [],
   "source": [
    "# =============================================================================\n",
    "# 5. RUN MODEL\n",
    "# ============================================================================="
   ]
  },
  {
   "cell_type": "code",
   "execution_count": 135,
   "id": "a29da8e0-19e6-434c-a498-c33331d6b603",
   "metadata": {},
   "outputs": [],
   "source": [
    "# ====================================== RUN BASIC MODEL ======================================"
   ]
  },
  {
   "cell_type": "code",
   "execution_count": 182,
   "id": "9046b5b8-e92c-47b4-9c48-c1938421982d",
   "metadata": {},
   "outputs": [
    {
     "name": "stdout",
     "output_type": "stream",
     "text": [
      "Iteration    0: Cost 4.296151\n",
      "Iteration  100: Cost 12.053544\n",
      "Iteration  200: Cost 11.025234\n",
      "Iteration  300: Cost 0.808912\n",
      "Iteration  400: Cost 2.462641\n",
      "Iteration  500: Cost 0.609974\n",
      "Iteration  600: Cost 11.293695\n",
      "Iteration  700: Cost 3.008792\n",
      "Iteration  800: Cost 4.019144\n",
      "Iteration  900: Cost 12.008382\n",
      "\n",
      "Final values:\n",
      "w: Sex_numeric    10.279541\n",
      "Pclass         -4.050736\n",
      "Age            -1.260915\n",
      "dtype: float64\n",
      "b: 2.2064255395874395\n"
     ]
    }
   ],
   "source": [
    "# Parameters\n",
    "initial_w = np.zeros(3)\n",
    "initial_b = 0.\n",
    "alpha = 0.1  # learning rate\n",
    "num_iters = 1000\n",
    "\n",
    "# Run gradient_descent\n",
    "w_final1, b_final1, J_history1 = basic_gradient_descent(X_train, y_train, initial_w, initial_b, alpha, num_iters)\n",
    "\n",
    "print(f\"\\nFinal values:\")\n",
    "print(f\"w: {w_final1}\")\n",
    "print(f\"b: {b_final1}\")"
   ]
  },
  {
   "cell_type": "code",
   "execution_count": 184,
   "id": "341689b0-e0c3-404c-8570-81a420205753",
   "metadata": {},
   "outputs": [],
   "source": [
    "# ====================================== RUN IMRPOVED MODEL ======================================"
   ]
  },
  {
   "cell_type": "code",
   "execution_count": 186,
   "id": "2b74a830-3ba6-410e-ab90-f2241480bcf3",
   "metadata": {},
   "outputs": [
    {
     "name": "stdout",
     "output_type": "stream",
     "text": [
      "Iteration    0: Cost 0.682374\n",
      "Iteration  100: Cost 0.469278\n",
      "Iteration  200: Cost 0.461979\n",
      "Iteration  300: Cost 0.461115\n",
      "Iteration  400: Cost 0.460973\n",
      "Iteration  500: Cost 0.460947\n",
      "Iteration  600: Cost 0.460942\n",
      "Iteration  700: Cost 0.460941\n",
      "Iteration  800: Cost 0.460941\n",
      "Iteration  900: Cost 0.460941\n",
      "\n",
      "Final values:\n",
      "w: Sex_numeric    1.216260\n",
      "Pclass        -0.880432\n",
      "Age           -0.328467\n",
      "dtype: float64\n",
      "b: -0.6830049568371815\n"
     ]
    }
   ],
   "source": [
    "# Parameters\n",
    "initial_w = np.zeros(3)\n",
    "initial_b = 0.\n",
    "alpha = 0.1  # learning rate\n",
    "num_iters = 1000\n",
    "\n",
    "# Run gradient_descent\n",
    "w_final2, b_final2, J_history2 = gradient_descent(X_train, y_train, initial_w, initial_b, alpha, num_iters)\n",
    "\n",
    "print(f\"\\nFinal values:\")\n",
    "print(f\"w: {w_final2}\")\n",
    "print(f\"b: {b_final2}\")"
   ]
  },
  {
   "cell_type": "code",
   "execution_count": 188,
   "id": "c3c525d6-0272-4a6e-bbad-2bd03f7430af",
   "metadata": {},
   "outputs": [],
   "source": [
    "# =============================================================================\n",
    "# 6. TEST WITH VALIDATION DATASET\n",
    "# ============================================================================="
   ]
  },
  {
   "cell_type": "code",
   "execution_count": 190,
   "id": "e01a4250-e9f8-4883-b65f-cac7a6209f96",
   "metadata": {},
   "outputs": [],
   "source": [
    "# Predict with validation set\n",
    "predictions1 = predict(X_val, w_final1, b_final1)\n",
    "\n",
    "# Calculate accuracy\n",
    "accuracy_basic_model = (predictions1 == y_val).mean()"
   ]
  },
  {
   "cell_type": "code",
   "execution_count": 192,
   "id": "9bf21df8-6354-4dc6-a04a-db99251717ac",
   "metadata": {},
   "outputs": [],
   "source": [
    "# Predict with validation set\n",
    "scaler = StandardScaler()\n",
    "X_scaled = scaler.fit_transform(X_val)\n",
    "predictions2 = predict(X_scaled, w_final2, b_final2)\n",
    "\n",
    "# Calculate accuracy\n",
    "accuracy_improved_model = (predictions2 == y_val).mean()"
   ]
  },
  {
   "cell_type": "code",
   "execution_count": 194,
   "id": "2f751cf0-68a6-4069-8262-852fc3fa72aa",
   "metadata": {},
   "outputs": [],
   "source": [
    "sklearn_model = LogisticRegression()\n",
    "sklearn_model.fit(X_train, y_train)\n",
    "sklearn_pred = sklearn_model.predict(X_val)\n",
    "sklearn_acc = (sklearn_pred == y_val).mean()"
   ]
  },
  {
   "cell_type": "code",
   "execution_count": 196,
   "id": "5d02fbc5-c131-4e40-b2c8-644b2c626490",
   "metadata": {},
   "outputs": [],
   "source": [
    "# =============================================================================\n",
    "# 7. COMPARASION\n",
    "# ============================================================================="
   ]
  },
  {
   "cell_type": "code",
   "execution_count": 198,
   "id": "9031b718-cde5-48c9-90f5-ae25e1fc251c",
   "metadata": {},
   "outputs": [
    {
     "name": "stdout",
     "output_type": "stream",
     "text": [
      "Accuracy Basic Model: 0.587\n",
      "Accuracy Improved Model: 0.810\n",
      "Sklearn accuracy: 0.810\n"
     ]
    }
   ],
   "source": [
    "print(f\"Accuracy Basic Model: {accuracy_basic_model:.3f}\")\n",
    "print(f\"Accuracy Improved Model: {accuracy_improved_model:.3f}\")\n",
    "print(f\"Sklearn accuracy: {sklearn_acc:.3f}\")"
   ]
  },
  {
   "cell_type": "code",
   "execution_count": null,
   "id": "4270d57c-5e6a-4243-93d9-623122d78c7e",
   "metadata": {},
   "outputs": [],
   "source": []
  }
 ],
 "metadata": {
  "kernelspec": {
   "display_name": "Python [conda env:base] *",
   "language": "python",
   "name": "conda-base-py"
  },
  "language_info": {
   "codemirror_mode": {
    "name": "ipython",
    "version": 3
   },
   "file_extension": ".py",
   "mimetype": "text/x-python",
   "name": "python",
   "nbconvert_exporter": "python",
   "pygments_lexer": "ipython3",
   "version": "3.12.7"
  }
 },
 "nbformat": 4,
 "nbformat_minor": 5
}
