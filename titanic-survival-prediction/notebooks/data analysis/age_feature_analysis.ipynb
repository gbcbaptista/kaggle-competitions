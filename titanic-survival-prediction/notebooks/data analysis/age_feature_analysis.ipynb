{
 "cells": [
  {
   "cell_type": "code",
   "execution_count": 59,
   "id": "57935114-b1ec-4fe3-96bc-fb8d6f63e87f",
   "metadata": {},
   "outputs": [],
   "source": [
    "import sys\n",
    "\n",
    "sys.path.append('../../src/')\n",
    "from utils import load_data, extract_title"
   ]
  },
  {
   "cell_type": "code",
   "execution_count": 17,
   "id": "bb38c1ee",
   "metadata": {},
   "outputs": [],
   "source": [
    "# =============================================================================\n",
    "# 1. LOAD DATA\n",
    "# ============================================================================="
   ]
  },
  {
   "cell_type": "code",
   "execution_count": 21,
   "id": "86d8b2e4-45c2-4cf6-ba11-a0f9b0695225",
   "metadata": {},
   "outputs": [],
   "source": [
    "# Load datasets\n",
    "train_df, test_df = load_data()"
   ]
  },
  {
   "cell_type": "code",
   "execution_count": 23,
   "id": "010e2223-63a1-4be2-8918-7b2cdfd49538",
   "metadata": {},
   "outputs": [],
   "source": [
    "# =============================================================================\n",
    "# 2. EXPLORATORY DATA ANALYSIS\n",
    "# ============================================================================="
   ]
  },
  {
   "cell_type": "code",
   "execution_count": 31,
   "id": "ee0872e0-95fa-47ba-ae8a-1d878a370bf4",
   "metadata": {},
   "outputs": [
    {
     "name": "stdout",
     "output_type": "stream",
     "text": [
      "          count       mean        std   min   25%   50%   75%   max\n",
      "Survived                                                           \n",
      "0         424.0  30.626179  14.172110  1.00  21.0  28.0  39.0  74.0\n",
      "1         290.0  28.343690  14.950952  0.42  19.0  28.0  36.0  80.0\n"
     ]
    }
   ],
   "source": [
    "print(train_df.groupby('Survived')['Age'].describe())"
   ]
  },
  {
   "cell_type": "code",
   "execution_count": 43,
   "id": "4d803c9d-fb1d-45e9-bd88-95a401c79977",
   "metadata": {},
   "outputs": [
    {
     "name": "stdout",
     "output_type": "stream",
     "text": [
      "=== AGE ANALYSIS ===\n",
      "Total missing values: 177\n",
      "Percentage missing: 19.9%\n"
     ]
    }
   ],
   "source": [
    "# Since we are considering to implement Age let's check the null values\n",
    "print(\"=== AGE ANALYSIS ===\")\n",
    "print(f\"Total missing values: {train_df['Age'].isnull().sum()}\")\n",
    "print(f\"Percentage missing: {train_df['Age'].isnull().sum() / len(train_df) * 100:.1f}%\")"
   ]
  },
  {
   "cell_type": "code",
   "execution_count": 35,
   "id": "c578444e-ada7-405b-b5b2-86b44f570205",
   "metadata": {},
   "outputs": [
    {
     "data": {
      "text/plain": [
       "<Axes: xlabel='Survived', ylabel='Age'>"
      ]
     },
     "execution_count": 35,
     "metadata": {},
     "output_type": "execute_result"
    },
    {
     "data": {
      "image/png": "[encoded data removed]",
      "text/plain": [
       "<Figure size 640x480 with 1 Axes>"
      ]
     },
     "metadata": {},
     "output_type": "display_data"
    }
   ],
   "source": [
    "import seaborn as sns\n",
    "sns.boxplot(x='Survived', y='Age', data=train_df)"
   ]
  },
  {
   "cell_type": "code",
   "execution_count": 47,
   "id": "26a16ad9-117c-404c-a6ff-438f58d19002",
   "metadata": {},
   "outputs": [
    {
     "name": "stdout",
     "output_type": "stream",
     "text": [
      "\n",
      "=== AGE STATISTICS BY DEMOGRAPHIC GROUPS ===\n",
      "\n",
      "Age by Sex + Pclass:\n",
      "                mean  median  count\n",
      "Sex    Pclass                      \n",
      "female 1       34.61    35.0     85\n",
      "       2       28.72    28.0     74\n",
      "       3       21.75    21.5    102\n",
      "male   1       41.28    40.0    101\n",
      "       2       30.74    30.0     99\n",
      "       3       26.51    25.0    253\n"
     ]
    }
   ],
   "source": [
    "print(\"\\n=== AGE STATISTICS BY DEMOGRAPHIC GROUPS ===\")\n",
    "age_stats = train_df.groupby(['Sex', 'Pclass'])['Age'].agg(['mean', 'median', 'count']).round(2)\n",
    "print(\"\\nAge by Sex + Pclass:\")\n",
    "print(age_stats)"
   ]
  },
  {
   "cell_type": "code",
   "execution_count": null,
   "id": "547ea71b-e8f3-4a6c-88c0-4dbc02b6eca5",
   "metadata": {},
   "outputs": [],
   "source": [
    "# Análise de sobrevivência por faixa etária\n",
    "print(\"\\n=== SURVIVAL BY AGE GROUPS ===\")\n",
    "df_with_age = train_df.dropna(subset=['Age'])\n",
    "\n",
    "# Criar faixas etárias\n",
    "df_temp = df_with_age.copy()\n",
    "df_temp['Age_Group'] = pd.cut(df_temp['Age'], \n",
    "                              bins=[0, 12, 18, 30, 50, 80], \n",
    "                              labels=['Child', 'Teen', 'Young_Adult', 'Adult', 'Senior'])\n",
    "\n",
    "survival_by_age = df_temp.groupby('Age_Group')['Survived'].agg(['mean', 'count']).round(3)\n",
    "print(survival_by_age)\n",
    "\n",
    "df_temp.head()"
   ]
  },
  {
   "cell_type": "code",
   "execution_count": 145,
   "id": "75d6186f-d7de-4788-a3a4-2b99915a5644",
   "metadata": {},
   "outputs": [
    {
     "data": {
      "text/plain": [
       "0"
      ]
     },
     "execution_count": 145,
     "metadata": {},
     "output_type": "execute_result"
    }
   ],
   "source": [
    "train_df['Title'] = train_df['Name'].map(extract_title)\n",
    "median_age_per_title = train_df.groupby('Title')['Age'].median()\n",
    "\n",
    "train_df['Age'] = train_df.apply(lambda row: median_age_per_title[row['Title']] if pd.isnull(row['Age']) else row['Age'], axis=1)\n",
    "train_df['Age'].isnull().sum()\n"
   ]
  },
  {
   "cell_type": "code",
   "execution_count": 147,
   "id": "10612970-7736-41a6-aba6-c94d88e8088d",
   "metadata": {},
   "outputs": [
    {
     "data": {
      "text/html": [
       "<div>\n",
       "<style scoped>\n",
       "    .dataframe tbody tr th:only-of-type {\n",
       "        vertical-align: middle;\n",
       "    }\n",
       "\n",
       "    .dataframe tbody tr th {\n",
       "        vertical-align: top;\n",
       "    }\n",
       "\n",
       "    .dataframe thead th {\n",
       "        text-align: right;\n",
       "    }\n",
       "</style>\n",
       "<table border=\"1\" class=\"dataframe\">\n",
       "  <thead>\n",
       "    <tr style=\"text-align: right;\">\n",
       "      <th></th>\n",
       "      <th>PassengerId</th>\n",
       "      <th>Survived</th>\n",
       "      <th>Pclass</th>\n",
       "      <th>Name</th>\n",
       "      <th>Sex</th>\n",
       "      <th>Age</th>\n",
       "      <th>SibSp</th>\n",
       "      <th>Parch</th>\n",
       "      <th>Ticket</th>\n",
       "      <th>Fare</th>\n",
       "      <th>Cabin</th>\n",
       "      <th>Embarked</th>\n",
       "      <th>Title</th>\n",
       "    </tr>\n",
       "  </thead>\n",
       "  <tbody>\n",
       "  </tbody>\n",
       "</table>\n",
       "</div>"
      ],
      "text/plain": [
       "Empty DataFrame\n",
       "Columns: [PassengerId, Survived, Pclass, Name, Sex, Age, SibSp, Parch, Ticket, Fare, Cabin, Embarked, Title]\n",
       "Index: []"
      ]
     },
     "execution_count": 147,
     "metadata": {},
     "output_type": "execute_result"
    }
   ],
   "source": []
  },
  {
   "cell_type": "code",
   "execution_count": null,
   "id": "b7ad2922-ff58-4b6f-83c0-2eeff033c3db",
   "metadata": {},
   "outputs": [],
   "source": []
  }
 ],
 "metadata": {
  "kernelspec": {
   "display_name": "Python [conda env:base] *",
   "language": "python",
   "name": "conda-base-py"
  },
  "language_info": {
   "codemirror_mode": {
    "name": "ipython",
    "version": 3
   },
   "file_extension": ".py",
   "mimetype": "text/x-python",
   "name": "python",
   "nbconvert_exporter": "python",
   "pygments_lexer": "ipython3",
   "version": "3.12.7"
  }
 },
 "nbformat": 4,
 "nbformat_minor": 5
}
