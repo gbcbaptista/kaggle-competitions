{
 "cells": [
  {
   "cell_type": "code",
   "execution_count": null,
   "id": "57935114-b1ec-4fe3-96bc-fb8d6f63e87f",
   "metadata": {},
   "outputs": [],
   "source": [
    "# Titanic - EDA & Feature Engineering\n",
    "# Objective: Exploratory analysis and implementation of logistic regression from scratch\n",
    "# Input: Raw data from Kaggle (train.csv, test.csv)\n",
    "\n",
    "import os\n",
    "import sys\n",
    "import numpy as np\n",
    "import pandas as pd\n",
    "from sklearn.model_selection import train_test_split\n",
    "from sklearn.linear_model import LogisticRegression\n",
    "\n",
    "sys.path.append('../src/')\n",
    "from models.logistic_regression import gradient_descent\n",
    "from utils import sex_mapping, predict, extract_title, group_titles, group_mapping"
   ]
  },
  {
   "cell_type": "code",
   "execution_count": null,
   "id": "bb38c1ee",
   "metadata": {},
   "outputs": [],
   "source": [
    "# =============================================================================\n",
    "# 1. LOAD DATA\n",
    "# ============================================================================="
   ]
  },
  {
   "cell_type": "code",
   "execution_count": null,
   "id": "86d8b2e4-45c2-4cf6-ba11-a0f9b0695225",
   "metadata": {},
   "outputs": [],
   "source": [
    "# Load datasets\n",
    "train_df = pd.read_csv('../data/raw/train.csv')\n",
    "test_df = pd.read_csv('../data/raw/test.csv')\n",
    "\n",
    "print(\"Dataset shapes:\")\n",
    "print(f\"Training set: {train_df.shape}\")\n",
    "print(f\"Test set: {test_df.shape}\")"
   ]
  },
  {
   "cell_type": "code",
   "execution_count": null,
   "id": "010e2223-63a1-4be2-8918-7b2cdfd49538",
   "metadata": {},
   "outputs": [],
   "source": [
    "# =============================================================================\n",
    "# 2. EXPLORATORY DATA ANALYSIS\n",
    "# ============================================================================="
   ]
  },
  {
   "cell_type": "code",
   "execution_count": null,
   "id": "0589cb74-7122-42da-a31d-7051c187a02f",
   "metadata": {},
   "outputs": [],
   "source": [
    "# Lets extract Titles\n",
    "train_df['Title'] = train_df['Name'].map(extract_title)\n",
    "train_df.head()"
   ]
  },
  {
   "cell_type": "code",
   "execution_count": null,
   "id": "389f9ca9-1f6f-4790-9c89-ada0afffb05d",
   "metadata": {},
   "outputs": [],
   "source": [
    "# Check if some title is not mapped\n",
    "train_df['Title'].isnull().sum()"
   ]
  },
  {
   "cell_type": "code",
   "execution_count": null,
   "id": "36037a09-2677-4e1f-858b-558c11b1ce37",
   "metadata": {},
   "outputs": [],
   "source": [
    "train_df['Age'].isnull().sum()"
   ]
  },
  {
   "cell_type": "code",
   "execution_count": null,
   "id": "0acd552e-cab4-4307-83d2-cf19d8f12739",
   "metadata": {},
   "outputs": [],
   "source": [
    "print(\"\\n=== SURVIVAL RATE BY Title ===\")\n",
    "train_df.groupby('Title')['Survived'].agg(['mean', 'count'])\n",
    "\n",
    "# Family size analysis (quick insight)\n",
    "# train_df['FamilySize'] = train_df['SibSp'] + train_df['Parch'] + 1\n",
    "# print(\"\\n=== SURVIVAL RATE BY FAMILY SIZE ===\")\n",
    "# print(train_df.groupby('FamilySize')['Survived'].mean())"
   ]
  },
  {
   "cell_type": "code",
   "execution_count": null,
   "id": "ae246b07-317b-4e44-8a0a-db4ebc19662d",
   "metadata": {},
   "outputs": [],
   "source": [
    "train_df['Title_Group'] = train_df['Title'].apply(group_titles)\n",
    "train_df.head()"
   ]
  },
  {
   "cell_type": "code",
   "execution_count": null,
   "id": "7d17c39d-9fde-4d88-a640-b719c58dace5",
   "metadata": {},
   "outputs": [],
   "source": [
    "print(train_df['Title_Group'].value_counts())\n",
    "print(\"\\nSurvival rate por grupo:\")\n",
    "print(train_df.groupby('Title_Group')['Survived'].mean().sort_values(ascending=False))"
   ]
  },
  {
   "cell_type": "code",
   "execution_count": null,
   "id": "4d803c9d-fb1d-45e9-bd88-95a401c79977",
   "metadata": {},
   "outputs": [],
   "source": [
    "# Since we are considering to implement Age let's check the null values\n",
    "train_df['Age'].isnull().sum()"
   ]
  },
  {
   "cell_type": "code",
   "execution_count": null,
   "id": "c578444e-ada7-405b-b5b2-86b44f570205",
   "metadata": {},
   "outputs": [],
   "source": [
    "import seaborn as sns\n",
    "sns.boxplot(x='Survived', y='Age', data=train_df)"
   ]
  },
  {
   "cell_type": "code",
   "execution_count": null,
   "id": "1b914480-22dc-4e6f-8c08-ac353bcd22ec",
   "metadata": {},
   "outputs": [],
   "source": [
    "print(train_df.groupby('Survived')['Age'].describe())"
   ]
  },
  {
   "cell_type": "code",
   "execution_count": null,
   "id": "785f66b2-0cbe-4e5d-9a8f-730cce7b5b3c",
   "metadata": {},
   "outputs": [],
   "source": [
    "# =============================================================================\n",
    "# 3. PREPARE BASE FEATURES\n",
    "# ============================================================================="
   ]
  },
  {
   "cell_type": "code",
   "execution_count": 11,
   "id": "a310b62d-74fa-4e85-8160-7b39d0ba548e",
   "metadata": {},
   "outputs": [
    {
     "data": {
      "text/html": [
       "<div>\n",
       "<style scoped>\n",
       "    .dataframe tbody tr th:only-of-type {\n",
       "        vertical-align: middle;\n",
       "    }\n",
       "\n",
       "    .dataframe tbody tr th {\n",
       "        vertical-align: top;\n",
       "    }\n",
       "\n",
       "    .dataframe thead th {\n",
       "        text-align: right;\n",
       "    }\n",
       "</style>\n",
       "<table border=\"1\" class=\"dataframe\">\n",
       "  <thead>\n",
       "    <tr style=\"text-align: right;\">\n",
       "      <th></th>\n",
       "      <th>PassengerId</th>\n",
       "      <th>Survived</th>\n",
       "      <th>Pclass</th>\n",
       "      <th>Name</th>\n",
       "      <th>Sex</th>\n",
       "      <th>Age</th>\n",
       "      <th>SibSp</th>\n",
       "      <th>Parch</th>\n",
       "      <th>Ticket</th>\n",
       "      <th>Fare</th>\n",
       "      <th>Cabin</th>\n",
       "      <th>Embarked</th>\n",
       "      <th>Sex_numeric</th>\n",
       "      <th>Title</th>\n",
       "      <th>Title_Group</th>\n",
       "    </tr>\n",
       "  </thead>\n",
       "  <tbody>\n",
       "    <tr>\n",
       "      <th>0</th>\n",
       "      <td>1</td>\n",
       "      <td>0</td>\n",
       "      <td>3</td>\n",
       "      <td>Braund, Mr. Owen Harris</td>\n",
       "      <td>male</td>\n",
       "      <td>22.0</td>\n",
       "      <td>1</td>\n",
       "      <td>0</td>\n",
       "      <td>A/5 21171</td>\n",
       "      <td>7.2500</td>\n",
       "      <td>NaN</td>\n",
       "      <td>S</td>\n",
       "      <td>0</td>\n",
       "      <td>Mr</td>\n",
       "      <td>Adult_Male</td>\n",
       "    </tr>\n",
       "    <tr>\n",
       "      <th>1</th>\n",
       "      <td>2</td>\n",
       "      <td>1</td>\n",
       "      <td>1</td>\n",
       "      <td>Cumings, Mrs. John Bradley (Florence Briggs Th...</td>\n",
       "      <td>female</td>\n",
       "      <td>38.0</td>\n",
       "      <td>1</td>\n",
       "      <td>0</td>\n",
       "      <td>PC 17599</td>\n",
       "      <td>71.2833</td>\n",
       "      <td>C85</td>\n",
       "      <td>C</td>\n",
       "      <td>1</td>\n",
       "      <td>Mrs</td>\n",
       "      <td>Married_Female</td>\n",
       "    </tr>\n",
       "    <tr>\n",
       "      <th>2</th>\n",
       "      <td>3</td>\n",
       "      <td>1</td>\n",
       "      <td>3</td>\n",
       "      <td>Heikkinen, Miss. Laina</td>\n",
       "      <td>female</td>\n",
       "      <td>26.0</td>\n",
       "      <td>0</td>\n",
       "      <td>0</td>\n",
       "      <td>STON/O2. 3101282</td>\n",
       "      <td>7.9250</td>\n",
       "      <td>NaN</td>\n",
       "      <td>S</td>\n",
       "      <td>1</td>\n",
       "      <td>Miss</td>\n",
       "      <td>Single_Female</td>\n",
       "    </tr>\n",
       "    <tr>\n",
       "      <th>3</th>\n",
       "      <td>4</td>\n",
       "      <td>1</td>\n",
       "      <td>1</td>\n",
       "      <td>Futrelle, Mrs. Jacques Heath (Lily May Peel)</td>\n",
       "      <td>female</td>\n",
       "      <td>35.0</td>\n",
       "      <td>1</td>\n",
       "      <td>0</td>\n",
       "      <td>113803</td>\n",
       "      <td>53.1000</td>\n",
       "      <td>C123</td>\n",
       "      <td>S</td>\n",
       "      <td>1</td>\n",
       "      <td>Mrs</td>\n",
       "      <td>Married_Female</td>\n",
       "    </tr>\n",
       "    <tr>\n",
       "      <th>4</th>\n",
       "      <td>5</td>\n",
       "      <td>0</td>\n",
       "      <td>3</td>\n",
       "      <td>Allen, Mr. William Henry</td>\n",
       "      <td>male</td>\n",
       "      <td>35.0</td>\n",
       "      <td>0</td>\n",
       "      <td>0</td>\n",
       "      <td>373450</td>\n",
       "      <td>8.0500</td>\n",
       "      <td>NaN</td>\n",
       "      <td>S</td>\n",
       "      <td>0</td>\n",
       "      <td>Mr</td>\n",
       "      <td>Adult_Male</td>\n",
       "    </tr>\n",
       "  </tbody>\n",
       "</table>\n",
       "</div>"
      ],
      "text/plain": [
       "   PassengerId  Survived  Pclass  \\\n",
       "0            1         0       3   \n",
       "1            2         1       1   \n",
       "2            3         1       3   \n",
       "3            4         1       1   \n",
       "4            5         0       3   \n",
       "\n",
       "                                                Name     Sex   Age  SibSp  \\\n",
       "0                            Braund, Mr. Owen Harris    male  22.0      1   \n",
       "1  Cumings, Mrs. John Bradley (Florence Briggs Th...  female  38.0      1   \n",
       "2                             Heikkinen, Miss. Laina  female  26.0      0   \n",
       "3       Futrelle, Mrs. Jacques Heath (Lily May Peel)  female  35.0      1   \n",
       "4                           Allen, Mr. William Henry    male  35.0      0   \n",
       "\n",
       "   Parch            Ticket     Fare Cabin Embarked  Sex_numeric Title  \\\n",
       "0      0         A/5 21171   7.2500   NaN        S            0    Mr   \n",
       "1      0          PC 17599  71.2833   C85        C            1   Mrs   \n",
       "2      0  STON/O2. 3101282   7.9250   NaN        S            1  Miss   \n",
       "3      0            113803  53.1000  C123        S            1   Mrs   \n",
       "4      0            373450   8.0500   NaN        S            0    Mr   \n",
       "\n",
       "      Title_Group  \n",
       "0      Adult_Male  \n",
       "1  Married_Female  \n",
       "2   Single_Female  \n",
       "3  Married_Female  \n",
       "4      Adult_Male  "
      ]
     },
     "execution_count": 11,
     "metadata": {},
     "output_type": "execute_result"
    }
   ],
   "source": [
    "# Lets extract Titles\n",
    "train_df['Title'] = train_df['Name'].map(extract_title)\n",
    "train_df['Title_Group'] = train_df['Title'].apply(group_titles)\n",
    "train_df.head()"
   ]
  },
  {
   "cell_type": "code",
   "execution_count": 23,
   "id": "21ac418e-7811-44d6-b265-3e9db3170ea2",
   "metadata": {},
   "outputs": [
    {
     "name": "stdout",
     "output_type": "stream",
     "text": [
      "\n",
      "Feature matrix shape: (891, 3)\n",
      "Target shape: (891,)\n",
      "Missing values in features: 0\n"
     ]
    }
   ],
   "source": [
    "# Simple feature engineering for baseline\n",
    "train_df['Sex_numeric'] = train_df['Sex'].map(sex_mapping)\n",
    "train_df['Title_Group_numeric'] = train_df['Title_Group'].map(group_mapping)\n",
    "\n",
    "# Select features for baseline model (Sex + Pclass)\n",
    "X = train_df[['Sex_numeric', 'Pclass', 'Title_Group_numeric']]\n",
    "y = train_df['Survived']\n",
    "\n",
    "print(f\"\\nFeature matrix shape: {X.shape}\")\n",
    "print(f\"Target shape: {y.shape}\")\n",
    "print(f\"Missing values in features: {X.isnull().sum().sum()}\")\n",
    "\n",
    "# Train-validation split\n",
    "X_train, X_val, y_train, y_val = train_test_split(X, y, test_size=0.2, random_state=42)"
   ]
  },
  {
   "cell_type": "code",
   "execution_count": 25,
   "id": "48c41893-c459-4b9b-bbba-56357310265e",
   "metadata": {},
   "outputs": [],
   "source": [
    "# =============================================================================\n",
    "# 4. PREPARE DATA\n",
    "# ============================================================================="
   ]
  },
  {
   "cell_type": "code",
   "execution_count": 27,
   "id": "368afad1-d58d-466f-a0c2-431be7d5660e",
   "metadata": {},
   "outputs": [],
   "source": [
    "X_train, X_val, y_train, y_val = train_test_split(X, y, test_size=0.2, random_state=42)"
   ]
  },
  {
   "cell_type": "code",
   "execution_count": 29,
   "id": "f1333d6d-39d8-455f-9f06-98e3b9c7cfeb",
   "metadata": {},
   "outputs": [],
   "source": [
    "# =============================================================================\n",
    "# 5. RUN MODEL\n",
    "# ============================================================================="
   ]
  },
  {
   "cell_type": "code",
   "execution_count": 31,
   "id": "9046b5b8-e92c-47b4-9c48-c1938421982d",
   "metadata": {},
   "outputs": [
    {
     "name": "stdout",
     "output_type": "stream",
     "text": [
      "Iteration    0: Cost 0.674009\n",
      "Iteration  100: Cost 0.508937\n",
      "Iteration  200: Cost 0.487700\n",
      "Iteration  300: Cost 0.476904\n",
      "Iteration  400: Cost 0.471203\n",
      "Iteration  500: Cost 0.468133\n",
      "Iteration  600: Cost 0.466444\n",
      "Iteration  700: Cost 0.465493\n",
      "Iteration  800: Cost 0.464948\n",
      "Iteration  900: Cost 0.464628\n",
      "\n",
      "Parâmetros finais:\n",
      "w: Sex_numeric            2.268361\n",
      "Pclass                -0.843786\n",
      "Title_Group_numeric    0.225303\n",
      "dtype: float64\n",
      "b: 0.31753008593804194\n"
     ]
    }
   ],
   "source": [
    "# Parameters\n",
    "initial_w = np.zeros(3)\n",
    "initial_b = 0.\n",
    "alpha = 0.1  # learning rate\n",
    "num_iters = 1000\n",
    "\n",
    "# Run gradient_descent\n",
    "w_final, b_final, J_history = gradient_descent(X_train, y_train, initial_w, initial_b, alpha, num_iters)\n",
    "\n",
    "print(f\"\\nFinal values:\")\n",
    "print(f\"w: {w_final}\")\n",
    "print(f\"b: {b_final}\")"
   ]
  },
  {
   "cell_type": "code",
   "execution_count": null,
   "id": "c3c525d6-0272-4a6e-bbad-2bd03f7430af",
   "metadata": {},
   "outputs": [],
   "source": [
    "# =============================================================================\n",
    "# 6. TEST WITH VALIDATION DATASET\n",
    "# ============================================================================="
   ]
  },
  {
   "cell_type": "code",
   "execution_count": 33,
   "id": "e01a4250-e9f8-4883-b65f-cac7a6209f96",
   "metadata": {},
   "outputs": [
    {
     "name": "stdout",
     "output_type": "stream",
     "text": [
      "Accuracy: 0.782\n"
     ]
    }
   ],
   "source": [
    "# Predict with validation set\n",
    "predictions = predict(X_val, w_final, b_final)\n",
    "\n",
    "# Calculate accuracy\n",
    "accuracy = (predictions == y_val).mean()\n",
    "print(f\"Accuracy: {accuracy:.3f}\")"
   ]
  },
  {
   "cell_type": "code",
   "execution_count": null,
   "id": "5d02fbc5-c131-4e40-b2c8-644b2c626490",
   "metadata": {},
   "outputs": [],
   "source": [
    "# =============================================================================\n",
    "# 7. COMPARASION WITH SKLEARN\n",
    "# ============================================================================="
   ]
  },
  {
   "cell_type": "code",
   "execution_count": 35,
   "id": "1106c7ac-ec18-4598-a389-c27df07fe0cc",
   "metadata": {},
   "outputs": [
    {
     "name": "stdout",
     "output_type": "stream",
     "text": [
      "Sklearn accuracy: 0.782\n"
     ]
    }
   ],
   "source": [
    "from sklearn.linear_model import LogisticRegression\n",
    "sklearn_model = LogisticRegression()\n",
    "sklearn_model.fit(X_train, y_train)\n",
    "sklearn_pred = sklearn_model.predict(X_val)\n",
    "sklearn_acc = (sklearn_pred == y_val).mean()\n",
    "print(f\"Sklearn accuracy: {sklearn_acc:.3f}\")"
   ]
  },
  {
   "cell_type": "code",
   "execution_count": null,
   "id": "9031b718-cde5-48c9-90f5-ae25e1fc251c",
   "metadata": {},
   "outputs": [],
   "source": []
  }
 ],
 "metadata": {
  "kernelspec": {
   "display_name": "Python [conda env:base] *",
   "language": "python",
   "name": "conda-base-py"
  },
  "language_info": {
   "codemirror_mode": {
    "name": "ipython",
    "version": 3
   },
   "file_extension": ".py",
   "mimetype": "text/x-python",
   "name": "python",
   "nbconvert_exporter": "python",
   "pygments_lexer": "ipython3",
   "version": "3.12.7"
  }
 },
 "nbformat": 4,
 "nbformat_minor": 5
}
