{
 "cells": [
  {
   "cell_type": "code",
   "execution_count": 1,
   "id": "57935114-b1ec-4fe3-96bc-fb8d6f63e87f",
   "metadata": {},
   "outputs": [],
   "source": [
    "# Titanic - EDA & Feature Engineering\n",
    "# Objective: Exploratory analysis and implementation of logistic regression from scratch\n",
    "# Input: Raw data from Kaggle (train.csv, test.csv)\n",
    "\n",
    "import sys\n",
    "import numpy as np\n",
    "import pandas as pd\n",
    "from sklearn.model_selection import train_test_split\n",
    "from sklearn.linear_model import LogisticRegression\n",
    "\n",
    "sys.path.append('../src/')\n",
    "from models.logistic_regression import gradient_descent\n",
    "from utils import sex_mapping, predict, extract_title, group_titles, group_mapping, impute_null_age_strategict"
   ]
  },
  {
   "cell_type": "code",
   "execution_count": null,
   "id": "bb38c1ee",
   "metadata": {},
   "outputs": [],
   "source": [
    "# =============================================================================\n",
    "# 1. LOAD DATA\n",
    "# ============================================================================="
   ]
  },
  {
   "cell_type": "code",
   "execution_count": 3,
   "id": "86d8b2e4-45c2-4cf6-ba11-a0f9b0695225",
   "metadata": {},
   "outputs": [
    {
     "name": "stdout",
     "output_type": "stream",
     "text": [
      "Dataset shapes:\n",
      "Training set: (891, 12)\n",
      "Test set: (418, 11)\n"
     ]
    }
   ],
   "source": [
    "# Load datasets\n",
    "train_df = pd.read_csv('../data/raw/train.csv')\n",
    "test_df = pd.read_csv('../data/raw/test.csv')\n",
    "\n",
    "print(\"Dataset shapes:\")\n",
    "print(f\"Training set: {train_df.shape}\")\n",
    "print(f\"Test set: {test_df.shape}\")"
   ]
  },
  {
   "cell_type": "code",
   "execution_count": null,
   "id": "785f66b2-0cbe-4e5d-9a8f-730cce7b5b3c",
   "metadata": {},
   "outputs": [],
   "source": [
    "# =============================================================================\n",
    "# 2. PREPARE BASE FEATURES\n",
    "# ============================================================================="
   ]
  },
  {
   "cell_type": "code",
   "execution_count": 5,
   "id": "fa02990d-07a7-4c0f-af67-f3b925015339",
   "metadata": {},
   "outputs": [],
   "source": [
    "train_df_age_imputed = impute_null_age_strategict(train_df)"
   ]
  },
  {
   "cell_type": "code",
   "execution_count": 9,
   "id": "dc8cf9cc-ad5f-4e3c-a78c-092e73bc94b9",
   "metadata": {},
   "outputs": [],
   "source": [
    "df = train_df_age_imputed.copy()"
   ]
  },
  {
   "cell_type": "code",
   "execution_count": 16,
   "id": "21ac418e-7811-44d6-b265-3e9db3170ea2",
   "metadata": {},
   "outputs": [
    {
     "name": "stdout",
     "output_type": "stream",
     "text": [
      "\n",
      "Feature matrix shape: (891, 3)\n",
      "Target shape: (891,)\n",
      "Missing values in features: 0\n"
     ]
    }
   ],
   "source": [
    "# Simple feature engineering for baseline\n",
    "df['Sex_numeric'] = df['Sex'].map(sex_mapping)\n",
    "\n",
    "# Select features for baseline model (Sex + Pclass)\n",
    "X = df[['Sex_numeric', 'Pclass', 'Age']]\n",
    "y = df['Survived']\n",
    "\n",
    "print(f\"\\nFeature matrix shape: {X.shape}\")\n",
    "print(f\"Target shape: {y.shape}\")\n",
    "print(f\"Missing values in features: {X.isnull().sum().sum()}\")\n",
    "\n",
    "# Train-validation split\n",
    "X_train, X_val, y_train, y_val = train_test_split(X, y, test_size=0.2, random_state=42)"
   ]
  },
  {
   "cell_type": "code",
   "execution_count": 18,
   "id": "48c41893-c459-4b9b-bbba-56357310265e",
   "metadata": {},
   "outputs": [],
   "source": [
    "# =============================================================================\n",
    "# 4. PREPARE DATA\n",
    "# ============================================================================="
   ]
  },
  {
   "cell_type": "code",
   "execution_count": 20,
   "id": "368afad1-d58d-466f-a0c2-431be7d5660e",
   "metadata": {},
   "outputs": [],
   "source": [
    "X_train, X_val, y_train, y_val = train_test_split(X, y, test_size=0.2, random_state=42)"
   ]
  },
  {
   "cell_type": "code",
   "execution_count": 29,
   "id": "f1333d6d-39d8-455f-9f06-98e3b9c7cfeb",
   "metadata": {},
   "outputs": [],
   "source": [
    "# =============================================================================\n",
    "# 5. RUN MODEL\n",
    "# ============================================================================="
   ]
  },
  {
   "cell_type": "code",
   "execution_count": 22,
   "id": "9046b5b8-e92c-47b4-9c48-c1938421982d",
   "metadata": {},
   "outputs": [
    {
     "name": "stdout",
     "output_type": "stream",
     "text": [
      "Iteration    0: Cost 4.296151\n",
      "Iteration  100: Cost 12.053544\n",
      "Iteration  200: Cost 11.025234\n",
      "Iteration  300: Cost 0.808912\n",
      "Iteration  400: Cost 2.462641\n",
      "Iteration  500: Cost 0.609974\n",
      "Iteration  600: Cost 11.293695\n",
      "Iteration  700: Cost 3.008792\n",
      "Iteration  800: Cost 4.019144\n",
      "Iteration  900: Cost 12.008382\n",
      "\n",
      "Final values:\n",
      "w: Sex_numeric    10.279541\n",
      "Pclass         -4.050736\n",
      "Age            -1.260915\n",
      "dtype: float64\n",
      "b: 2.2064255395874395\n"
     ]
    }
   ],
   "source": [
    "# Parameters\n",
    "initial_w = np.zeros(3)\n",
    "initial_b = 0.\n",
    "alpha = 0.1  # learning rate\n",
    "num_iters = 1000\n",
    "\n",
    "# Run gradient_descent\n",
    "w_final, b_final, J_history = gradient_descent(X_train, y_train, initial_w, initial_b, alpha, num_iters)\n",
    "\n",
    "print(f\"\\nFinal values:\")\n",
    "print(f\"w: {w_final}\")\n",
    "print(f\"b: {b_final}\")"
   ]
  },
  {
   "cell_type": "code",
   "execution_count": null,
   "id": "c3c525d6-0272-4a6e-bbad-2bd03f7430af",
   "metadata": {},
   "outputs": [],
   "source": [
    "# =============================================================================\n",
    "# 6. TEST WITH VALIDATION DATASET\n",
    "# ============================================================================="
   ]
  },
  {
   "cell_type": "code",
   "execution_count": 24,
   "id": "e01a4250-e9f8-4883-b65f-cac7a6209f96",
   "metadata": {},
   "outputs": [
    {
     "name": "stdout",
     "output_type": "stream",
     "text": [
      "Accuracy: 0.587\n"
     ]
    }
   ],
   "source": [
    "# Predict with validation set\n",
    "predictions = predict(X_val, w_final, b_final)\n",
    "\n",
    "# Calculate accuracy\n",
    "accuracy = (predictions == y_val).mean()\n",
    "print(f\"Accuracy: {accuracy:.3f}\")"
   ]
  },
  {
   "cell_type": "code",
   "execution_count": null,
   "id": "5d02fbc5-c131-4e40-b2c8-644b2c626490",
   "metadata": {},
   "outputs": [],
   "source": [
    "# =============================================================================\n",
    "# 7. COMPARASION WITH SKLEARN\n",
    "# ============================================================================="
   ]
  },
  {
   "cell_type": "code",
   "execution_count": 26,
   "id": "1106c7ac-ec18-4598-a389-c27df07fe0cc",
   "metadata": {},
   "outputs": [
    {
     "name": "stdout",
     "output_type": "stream",
     "text": [
      "Sklearn accuracy: 0.810\n"
     ]
    }
   ],
   "source": [
    "sklearn_model = LogisticRegression()\n",
    "sklearn_model.fit(X_train, y_train)\n",
    "sklearn_pred = sklearn_model.predict(X_val)\n",
    "sklearn_acc = (sklearn_pred == y_val).mean()\n",
    "print(f\"Sklearn accuracy: {sklearn_acc:.3f}\")"
   ]
  },
  {
   "cell_type": "code",
   "execution_count": null,
   "id": "9031b718-cde5-48c9-90f5-ae25e1fc251c",
   "metadata": {},
   "outputs": [],
   "source": []
  }
 ],
 "metadata": {
  "kernelspec": {
   "display_name": "Python [conda env:base] *",
   "language": "python",
   "name": "conda-base-py"
  },
  "language_info": {
   "codemirror_mode": {
    "name": "ipython",
    "version": 3
   },
   "file_extension": ".py",
   "mimetype": "text/x-python",
   "name": "python",
   "nbconvert_exporter": "python",
   "pygments_lexer": "ipython3",
   "version": "3.12.7"
  }
 },
 "nbformat": 4,
 "nbformat_minor": 5
}
