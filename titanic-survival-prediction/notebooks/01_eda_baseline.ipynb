{
 "cells": [
  {
   "cell_type": "code",
   "execution_count": 40,
   "id": "57935114-b1ec-4fe3-96bc-fb8d6f63e87f",
   "metadata": {},
   "outputs": [],
   "source": [
    "# Titanic - EDA & Logistic Regression Baseline\n",
    "# Objective: Exploratory analysis and implementation of logistic regression from scratch\n",
    "# Input: Raw data from Kaggle (train.csv, test.csv)\n",
    "\n",
    "import os\n",
    "import sys\n",
    "import numpy as np\n",
    "import pandas as pd\n",
    "from sklearn.model_selection import train_test_split\n",
    "from sklearn.linear_model import LogisticRegression\n",
    "\n",
    "sys.path.append('../src/')\n",
    "from models.logistic_regression import gradient_descent\n",
    "from utils import predict"
   ]
  },
  {
   "cell_type": "code",
   "execution_count": 42,
   "id": "bb38c1ee",
   "metadata": {},
   "outputs": [],
   "source": [
    "# =============================================================================\n",
    "# 1. LOAD DATA\n",
    "# ============================================================================="
   ]
  },
  {
   "cell_type": "code",
   "execution_count": 44,
   "id": "86d8b2e4-45c2-4cf6-ba11-a0f9b0695225",
   "metadata": {},
   "outputs": [
    {
     "name": "stdout",
     "output_type": "stream",
     "text": [
      "Dataset shapes:\n",
      "Training set: (891, 12)\n",
      "Test set: (418, 11)\n"
     ]
    }
   ],
   "source": [
    "# Load datasets\n",
    "train_df = pd.read_csv('../data/raw/train.csv')\n",
    "test_df = pd.read_csv('../data/raw/test.csv')\n",
    "\n",
    "print(\"Dataset shapes:\")\n",
    "print(f\"Training set: {train_df.shape}\")\n",
    "print(f\"Test set: {test_df.shape}\")"
   ]
  },
  {
   "cell_type": "code",
   "execution_count": 46,
   "id": "010e2223-63a1-4be2-8918-7b2cdfd49538",
   "metadata": {},
   "outputs": [],
   "source": [
    "# =============================================================================\n",
    "# 2. EXPLORATORY DATA ANALYSIS\n",
    "# ============================================================================="
   ]
  },
  {
   "cell_type": "code",
   "execution_count": null,
   "id": "0acd552e-cab4-4307-83d2-cf19d8f12739",
   "metadata": {},
   "outputs": [],
   "source": [
    "print(\"\\n=== BASIC INFO ===\")\n",
    "print(train_df.info())\n",
    "\n",
    "print(\"\\n=== MISSING VALUES ===\")\n",
    "print(train_df.isnull().sum())\n",
    "\n",
    "print(\"\\n=== SURVIVAL RATE BY GENDER ===\")\n",
    "print(train_df.groupby('Sex')['Survived'].mean())\n",
    "\n",
    "print(\"\\n=== SURVIVAL RATE BY CLASS ===\")\n",
    "print(train_df.groupby('Pclass')['Survived'].mean())\n",
    "\n",
    "# Family size analysis (quick insight)\n",
    "train_df['FamilySize'] = train_df['SibSp'] + train_df['Parch'] + 1\n",
    "print(\"\\n=== SURVIVAL RATE BY FAMILY SIZE ===\")\n",
    "print(train_df.groupby('FamilySize')['Survived'].mean())"
   ]
  },
  {
   "cell_type": "code",
   "execution_count": 50,
   "id": "785f66b2-0cbe-4e5d-9a8f-730cce7b5b3c",
   "metadata": {},
   "outputs": [],
   "source": [
    "# =============================================================================\n",
    "# 3. PREPARE BASE FEATURES\n",
    "# ============================================================================="
   ]
  },
  {
   "cell_type": "code",
   "execution_count": 52,
   "id": "21ac418e-7811-44d6-b265-3e9db3170ea2",
   "metadata": {},
   "outputs": [
    {
     "name": "stdout",
     "output_type": "stream",
     "text": [
      "\n",
      "Feature matrix shape: (891, 2)\n",
      "Target shape: (891,)\n",
      "Missing values in features: 0\n"
     ]
    }
   ],
   "source": [
    "# Simple feature engineering for baseline\n",
    "train_df['Sex_numeric'] = train_df['Sex'].map({'male': 0, 'female': 1})\n",
    "\n",
    "# Select features for baseline model (Sex + Pclass)\n",
    "X = train_df[['Sex_numeric', 'Pclass']]\n",
    "y = train_df['Survived']\n",
    "\n",
    "print(f\"\\nFeature matrix shape: {X.shape}\")\n",
    "print(f\"Target shape: {y.shape}\")\n",
    "print(f\"Missing values in features: {X.isnull().sum().sum()}\")\n",
    "\n",
    "# Train-validation split\n",
    "X_train, X_val, y_train, y_val = train_test_split(X, y, test_size=0.2, random_state=42)"
   ]
  },
  {
   "cell_type": "code",
   "execution_count": 54,
   "id": "48c41893-c459-4b9b-bbba-56357310265e",
   "metadata": {},
   "outputs": [],
   "source": [
    "# =============================================================================\n",
    "# 4. PREPARE DATA\n",
    "# ============================================================================="
   ]
  },
  {
   "cell_type": "code",
   "execution_count": 56,
   "id": "368afad1-d58d-466f-a0c2-431be7d5660e",
   "metadata": {},
   "outputs": [],
   "source": [
    "X_train, X_val, y_train, y_val = train_test_split(X, y, test_size=0.2, random_state=42)"
   ]
  },
  {
   "cell_type": "code",
   "execution_count": 58,
   "id": "f1333d6d-39d8-455f-9f06-98e3b9c7cfeb",
   "metadata": {},
   "outputs": [],
   "source": [
    "# =============================================================================\n",
    "# 5. RUN MODEL\n",
    "# ============================================================================="
   ]
  },
  {
   "cell_type": "code",
   "execution_count": 60,
   "id": "9046b5b8-e92c-47b4-9c48-c1938421982d",
   "metadata": {},
   "outputs": [
    {
     "name": "stdout",
     "output_type": "stream",
     "text": [
      "Iteration    0: Cost 0.675175\n",
      "Iteration  100: Cost 0.528647\n",
      "Iteration  200: Cost 0.492328\n",
      "Iteration  300: Cost 0.478762\n",
      "Iteration  400: Cost 0.473093\n",
      "Iteration  500: Cost 0.470536\n",
      "Iteration  600: Cost 0.469318\n",
      "Iteration  700: Cost 0.468711\n",
      "Iteration  800: Cost 0.468398\n",
      "Iteration  900: Cost 0.468231\n",
      "\n",
      "Parâmetros finais:\n",
      "w: Sex_numeric    2.559679\n",
      "Pclass        -0.865522\n",
      "dtype: float64\n",
      "b: 0.46693049304425166\n"
     ]
    }
   ],
   "source": [
    "# Parameters\n",
    "initial_w = np.zeros(2)\n",
    "initial_b = 0.\n",
    "alpha = 0.1  # learning rate\n",
    "num_iters = 1000\n",
    "\n",
    "# Run gradient_descent\n",
    "w_final, b_final, J_history = gradient_descent(X_train, y_train, initial_w, initial_b, alpha, num_iters)\n",
    "\n",
    "print(f\"\\nParâmetros finais:\")\n",
    "print(f\"w: {w_final}\")\n",
    "print(f\"b: {b_final}\")"
   ]
  },
  {
   "cell_type": "code",
   "execution_count": 62,
   "id": "c3c525d6-0272-4a6e-bbad-2bd03f7430af",
   "metadata": {},
   "outputs": [],
   "source": [
    "# =============================================================================\n",
    "# 6. TEST WITH VALIDATION DATASET\n",
    "# ============================================================================="
   ]
  },
  {
   "cell_type": "code",
   "execution_count": 64,
   "id": "e01a4250-e9f8-4883-b65f-cac7a6209f96",
   "metadata": {},
   "outputs": [
    {
     "name": "stdout",
     "output_type": "stream",
     "text": [
      "Accuracy: 0.782\n"
     ]
    }
   ],
   "source": [
    "# Predict with validation set\n",
    "predictions = predict(X_val, w_final, b_final)\n",
    "\n",
    "# Calculate accuracy\n",
    "accuracy = (predictions == y_val).mean()\n",
    "print(f\"Accuracy: {accuracy:.3f}\")"
   ]
  },
  {
   "cell_type": "code",
   "execution_count": 68,
   "id": "5d02fbc5-c131-4e40-b2c8-644b2c626490",
   "metadata": {},
   "outputs": [],
   "source": [
    "# =============================================================================\n",
    "# 7. COMPARASION WITH SKLEARN\n",
    "# ============================================================================="
   ]
  },
  {
   "cell_type": "code",
   "execution_count": 70,
   "id": "1106c7ac-ec18-4598-a389-c27df07fe0cc",
   "metadata": {},
   "outputs": [
    {
     "name": "stdout",
     "output_type": "stream",
     "text": [
      "Sklearn accuracy: 0.782\n"
     ]
    }
   ],
   "source": [
    "from sklearn.linear_model import LogisticRegression\n",
    "sklearn_model = LogisticRegression()\n",
    "sklearn_model.fit(X_train, y_train)\n",
    "sklearn_pred = sklearn_model.predict(X_val)\n",
    "sklearn_acc = (sklearn_pred == y_val).mean()\n",
    "print(f\"Sklearn accuracy: {sklearn_acc:.3f}\")"
   ]
  },
  {
   "cell_type": "code",
   "execution_count": null,
   "id": "9031b718-cde5-48c9-90f5-ae25e1fc251c",
   "metadata": {},
   "outputs": [],
   "source": []
  }
 ],
 "metadata": {
  "kernelspec": {
   "display_name": "Python [conda env:base] *",
   "language": "python",
   "name": "conda-base-py"
  },
  "language_info": {
   "codemirror_mode": {
    "name": "ipython",
    "version": 3
   },
   "file_extension": ".py",
   "mimetype": "text/x-python",
   "name": "python",
   "nbconvert_exporter": "python",
   "pygments_lexer": "ipython3",
   "version": "3.12.7"
  }
 },
 "nbformat": 4,
 "nbformat_minor": 5
}
